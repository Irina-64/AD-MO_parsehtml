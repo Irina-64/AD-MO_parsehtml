{
  "nbformat": 4,
  "nbformat_minor": 0,
  "metadata": {
    "colab": {
      "provenance": [],
      "authorship_tag": "ABX9TyPtkPM9n+dEDrbg/cppIXaf",
      "include_colab_link": true
    },
    "kernelspec": {
      "name": "python3",
      "display_name": "Python 3"
    },
    "language_info": {
      "name": "python"
    }
  },
  "cells": [
    {
      "cell_type": "markdown",
      "metadata": {
        "id": "view-in-github",
        "colab_type": "text"
      },
      "source": [
        "<a href=\"https://colab.research.google.com/github/Irina-64/AD-MO_parsehtml/blob/master/%D0%9F%D0%B0%D1%80%D1%81%D0%B5%D1%80_html.ipynb\" target=\"_parent\"><img src=\"https://colab.research.google.com/assets/colab-badge.svg\" alt=\"Open In Colab\"/></a>"
      ]
    },
    {
      "cell_type": "markdown",
      "source": [
        "# Поиск вакансий"
      ],
      "metadata": {
        "id": "66B_0ZpTg0Jg"
      }
    },
    {
      "cell_type": "code",
      "execution_count": null,
      "metadata": {
        "id": "ReY7ufRBgari"
      },
      "outputs": [],
      "source": [
        "import requests\n",
        "import pprint"
      ]
    },
    {
      "cell_type": "code",
      "source": [
        "url = 'https://api.hh.ru/vacancies'"
      ],
      "metadata": {
        "id": "PynCQBh6gkbR"
      },
      "execution_count": null,
      "outputs": []
    },
    {
      "cell_type": "code",
      "source": [
        "where = input('Где искать вакансию?')\n",
        "query_string = input('Строка запроса?')\n",
        "\n",
        "params = {\n",
        "    'text': 'NAME:(Python OR Java) AND COMPANY_NAME:(1 OR 2 OR YANDEX) AND (DJANGO OR SPRING)',\n",
        "    # есть страницы т.к. данных много\n",
        "    'page': 1\n",
        "}\n",
        "\n",
        "result = requests.get(url, params=params).json()\n",
        "\n",
        "pprint.pprint(result)\n",
        "print(result['items'][0]['url'])\n",
        "print(result['items'][0]['alternate_url'])"
      ],
      "metadata": {
        "id": "6ycwWTiUgvAq"
      },
      "execution_count": null,
      "outputs": []
    },
    {
      "cell_type": "markdown",
      "source": [
        "готовые шаблоны на бутстрап   https://startbootstrap.com/\n",
        "документация bootstrap (важный раздел компоненты) https://bootstrap-4.ru/docs/4.3.1/getting-started/introduction/\n",
        "\n",
        "полезный сайт по html/css https://html5book.ru/osnovy-html/\n",
        "\n",
        "Теоретическое видео к занятию про парсинг и приложение для парсинга\n",
        "\n",
        "https://youtu.be/1N5Qt_b-Ic0\n",
        "\n"
      ],
      "metadata": {
        "id": "TO24KXmRhHwL"
      }
    },
    {
      "cell_type": "markdown",
      "source": [
        "омашнее задание:\n",
        "\n",
        "Название\n",
        "\n",
        "Создание статического сайта для проекта github/hh\n",
        "\n",
        "Цель\n",
        "\n",
        "В этой самостоятельной работе тренируем умения:\n",
        "\n",
        "1. создавать простые страницы используя html/css\n",
        "\n",
        "2. использовать bootstrap для создания сайтов\n",
        "\n",
        "Смысл\n",
        "\n",
        "Понимать как работает html/css для использования в шаблонах для Flask, Django.\n",
        "\n",
        "Использовать bootstrap в качестве фронтенда для своих веб-сайтов\n",
        "\n",
        "Последовательность действий\n",
        "\n",
        "0. В проекте hh/github перейти на новую ветку\n",
        "\n",
        "1. В проекте создать папку templates\n",
        "\n",
        "2. Создать 3 страницы для сайта: главная, форма для ввода данных, страница контактов. \n",
        "\n",
        "В форме для ввода обеспечить ввод данных, необходимых для работы парсера (для hh свои для github свои, описание можно найти в предыдущем задании)\n",
        "Дополнительно можно создать любые другие страницы\n",
        "4. Создать верстку страниц с помощью html/css можно использовать bootstrap\n",
        "\n",
        "5. Организовать меню для перехода между страницами\n",
        "\n",
        "6. Сдать дз в виде ссылки на pull request\n",
        "\n",
        "**Критерии оценки**\n",
        "\n",
        "Задание считается выполненным, когда:\n",
        "\n",
        "Реализована 1 страница с формой\n",
        "\n",
        "\n",
        "\n",
        "Баллы:\n",
        "\n",
        "страница с формой - 30%\n",
        "\n",
        "главная страница - 30%\n",
        "\n",
        "страница с контактами - 20%\n",
        "\n",
        "20% - есть переходы между страницами"
      ],
      "metadata": {
        "id": "S0dNq6BNh38R"
      }
    },
    {
      "cell_type": "code",
      "source": [],
      "metadata": {
        "id": "MD_rc9zBhNYa"
      },
      "execution_count": null,
      "outputs": []
    }
  ]
}